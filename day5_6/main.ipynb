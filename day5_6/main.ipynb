{
 "cells": [
  {
   "cell_type": "code",
   "execution_count": 1,
   "metadata": {},
   "outputs": [],
   "source": [
    "import pandas as pd\n",
    "import numpy as np"
   ]
  },
  {
   "cell_type": "code",
   "execution_count": 50,
   "metadata": {},
   "outputs": [
    {
     "name": "stdout",
     "output_type": "stream",
     "text": [
      "(array([165349.2, 136897.8, 471784.1, 'New York'], dtype=object), 192261.83)\n"
     ]
    }
   ],
   "source": [
    "dataset = pd.read_csv('50_Startups.csv')\n",
    "X = dataset.iloc[ : , :-1].values\n",
    "Y = dataset.iloc[ : ,  4 ].values\n",
    "print(X[0],Y[0])"
   ]
  },
  {
   "cell_type": "code",
   "execution_count": 66,
   "metadata": {},
   "outputs": [
    {
     "data": {
      "text/plain": [
       "<matplotlib.collections.PathCollection at 0xd5042b0>"
      ]
     },
     "execution_count": 66,
     "metadata": {},
     "output_type": "execute_result"
    },
    {
     "data": {
      "image/png": "[encoded data removed]",
      "text/plain": [
       "<Figure size 432x288 with 3 Axes>"
      ]
     },
     "metadata": {
      "needs_background": "light"
     },
     "output_type": "display_data"
    }
   ],
   "source": [
    "\"\"\"\n",
    "The regression equation is only capable of measuring linear, or straight-line, relationships. If the data form a\n",
    "circle, for example, regression analysis would not detect a relationship. For this reason, it is always advisable to\n",
    "plot each independent variable with the dependent variable, watching for curves, outlying points, changes in the\n",
    "amount of variability, and various other anomalies that may occur.\n",
    "\"\"\"\n",
    "import matplotlib.pyplot as plt\n",
    "def my_plotter(ax, data1, data2, param_dict):\n",
    "    \"\"\"\n",
    "    A helper function to make a graph\n",
    "\n",
    "    Parameters\n",
    "    ----------\n",
    "    ax : Axes\n",
    "        The axes to draw to\n",
    "\n",
    "    data1 : array\n",
    "       The x data\n",
    "\n",
    "    data2 : array\n",
    "       The y data\n",
    "\n",
    "    param_dict : dict\n",
    "       Dictionary of kwargs to pass to ax.plot\n",
    "\n",
    "    Returns\n",
    "    -------\n",
    "    out : list\n",
    "        list of artists added\n",
    "    \"\"\"\n",
    "    out = ax.scatter(data1, data2)\n",
    "    return out\n",
    "fig, (ax1,ax2,ax3) = plt.subplots(1, 3)\n",
    "my_plotter(ax1, Y,X[:,0], {'marker': 'x'})\n",
    "my_plotter(ax2, Y,X[:,1], {'marker': 'x'})\n",
    "my_plotter(ax3, Y,X[:,2], {'marker': 'x'})"
   ]
  },
  {
   "cell_type": "code",
   "execution_count": 22,
   "metadata": {},
   "outputs": [],
   "source": [
    "from sklearn.preprocessing import LabelEncoder, OneHotEncoder\n",
    "labelencoder = LabelEncoder()\n",
    "X[: , 3] = labelencoder.fit_transform(X[ : , 3])\n",
    "onehotencoder = OneHotEncoder(categorical_features = [3])\n",
    "X = onehotencoder.fit_transform(X).toarray()"
   ]
  },
  {
   "cell_type": "code",
   "execution_count": 23,
   "metadata": {},
   "outputs": [],
   "source": [
    "X = X[: , 1:]"
   ]
  },
  {
   "cell_type": "code",
   "execution_count": 24,
   "metadata": {},
   "outputs": [
    {
     "name": "stdout",
     "output_type": "stream",
     "text": [
      "(array([1.0000000e+00, 0.0000000e+00, 5.5493950e+04, 1.0305749e+05,\n",
      "       2.1463481e+05]), 96778.92)\n"
     ]
    }
   ],
   "source": [
    "from sklearn.model_selection   import train_test_split\n",
    "X_train, X_test, Y_train, Y_test = train_test_split(X, Y, test_size = 0.2, random_state = 0)\n",
    "print(X_train[0],Y_train[0])"
   ]
  },
  {
   "cell_type": "code",
   "execution_count": 8,
   "metadata": {},
   "outputs": [
    {
     "data": {
      "text/plain": [
       "LinearRegression(copy_X=True, fit_intercept=True, n_jobs=1, normalize=False)"
      ]
     },
     "execution_count": 8,
     "metadata": {},
     "output_type": "execute_result"
    }
   ],
   "source": [
    "from sklearn.linear_model import LinearRegression\n",
    "regressor = LinearRegression()\n",
    "regressor.fit(X_train, Y_train)"
   ]
  },
  {
   "cell_type": "code",
   "execution_count": 11,
   "metadata": {},
   "outputs": [
    {
     "name": "stdout",
     "output_type": "stream",
     "text": [
      "(array([[0.0000000e+00, 6.6051520e+04, 1.8264556e+05, 1.1814820e+05],\n",
      "       [0.0000000e+00, 1.0067196e+05, 9.1790610e+04, 2.4974455e+05],\n",
      "       [0.0000000e+00, 1.0191308e+05, 1.1059411e+05, 2.2916095e+05],\n",
      "       [0.0000000e+00, 2.7892920e+04, 8.4710770e+04, 1.6447071e+05],\n",
      "       [0.0000000e+00, 1.5344151e+05, 1.0114555e+05, 4.0793454e+05],\n",
      "       [1.0000000e+00, 7.2107600e+04, 1.2786455e+05, 3.5318381e+05],\n",
      "       [1.0000000e+00, 2.0229590e+04, 6.5947930e+04, 1.8526510e+05],\n",
      "       [1.0000000e+00, 6.1136380e+04, 1.5270192e+05, 8.8218230e+04],\n",
      "       [0.0000000e+00, 7.3994560e+04, 1.2278275e+05, 3.0331926e+05],\n",
      "       [0.0000000e+00, 1.4210734e+05, 9.1391770e+04, 3.6616842e+05]]), array([103615.70496732, 132245.69745432, 133070.23906339,  72592.46097845,\n",
      "       179075.96157176, 116014.3380813 ,  67853.79186105,  98837.47482921,\n",
      "       114480.26282341, 168492.58649243]))\n"
     ]
    }
   ],
   "source": [
    "y_pred = regressor.predict(X_test)\n",
    "print(X_test,y_pred)"
   ]
  },
  {
   "cell_type": "code",
   "execution_count": null,
   "metadata": {},
   "outputs": [],
   "source": [
    "\"\"\"\n",
    "The Statistic\n",
    "https://stackoverflow.com/questions/42033720/python-sklearn-multiple-linear-regression-display-r-squared\n",
    "\"\"\""
   ]
  }
 ],
 "metadata": {
  "kernelspec": {
   "display_name": "Python 2",
   "language": "python",
   "name": "python2"
  },
  "language_info": {
   "codemirror_mode": {
    "name": "ipython",
    "version": 2
   },
   "file_extension": ".py",
   "mimetype": "text/x-python",
   "name": "python",
   "nbconvert_exporter": "python",
   "pygments_lexer": "ipython2",
   "version": "2.7.15"
  }
 },
 "nbformat": 4,
 "nbformat_minor": 2
}
